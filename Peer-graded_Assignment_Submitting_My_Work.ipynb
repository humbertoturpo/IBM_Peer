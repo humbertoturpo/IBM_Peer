{
 "cells": [
  {
   "cell_type": "markdown",
   "id": "ba931ac1",
   "metadata": {},
   "source": [
    "<h1> Data Science Tools and Ecosystem </h1> \n"
   ]
  },
  {
   "cell_type": "markdown",
   "id": "8323f8a3",
   "metadata": {},
   "source": [
    "<h2> Introduction </h2> "
   ]
  },
  {
   "cell_type": "markdown",
   "id": "c9e90fa3",
   "metadata": {},
   "source": [
    "In this notebook, Data Science Tools and Ecosystem are summarized.\n",
    "\n"
   ]
  },
  {
   "cell_type": "markdown",
   "id": "c8399b38",
   "metadata": {},
   "source": [
    "<h2> Data science languages </h2> "
   ]
  },
  {
   "cell_type": "markdown",
   "id": "ab49e3e3",
   "metadata": {},
   "source": [
    "Some of the popular languages that Data Scientists use are:\n",
    "\n",
    "Python.\n",
    "R.\n",
    "SQL.\n",
    "Java.\n",
    "Julia.\n",
    "Scala.\n",
    "C/C++.\n",
    "JavaScript."
   ]
  },
  {
   "cell_type": "markdown",
   "id": "6f80ed42",
   "metadata": {},
   "source": [
    "<h2> Create a markdown cell to list data science libraries </h2>"
   ]
  },
  {
   "cell_type": "markdown",
   "id": "1322096c",
   "metadata": {},
   "source": [
    "Some of the commonly used libraries used by Data Scientists include:\n",
    "Scrapy.\n",
    "BeautifulSoup.\n",
    "LightGBM.\n",
    "ELI5.\n",
    "Theano.\n",
    "NuPIC.\n",
    "Ramp.\n",
    "Pipenv.\n",
    "Bob.\n",
    "PyBrain.\n",
    "Caffe2.\n",
    "Chainer.\n",
    "TensorFlow.\n",
    "NumPy.\n",
    "SciPy.\n",
    "Pandas.\n",
    "Matplotlib.\n",
    "Keras.\n",
    "SciKit-Learn.\n",
    "PyTorch.\n"
   ]
  },
  {
   "cell_type": "markdown",
   "id": "ba9cf146",
   "metadata": {},
   "source": [
    "<h2>Create a markdown cell with a table of Data Science tools</h2>"
   ]
  },
  {
   "cell_type": "markdown",
   "id": "4f325af8",
   "metadata": {},
   "source": [
    "|Data Science Tools|\n",
    "|------------------|\n",
    "|Big ML|\n",
    "|Apache Spark|"
   ]
  },
  {
   "cell_type": "markdown",
   "id": "c09f3551",
   "metadata": {},
   "source": [
    "<h2>Create a markdown cell introducing arithmetic expression examples</h2>"
   ]
  },
  {
   "cell_type": "code",
   "execution_count": 17,
   "id": "6f28ed0c",
   "metadata": {},
   "outputs": [
    {
     "name": "stdout",
     "output_type": "stream",
     "text": [
      "The result of the addition is: 8\n"
     ]
    }
   ],
   "source": [
    "# Define two numbers\n",
    "a = 5\n",
    "b = 3\n",
    "\n",
    "# Perform an arithmetic operation (addition)\n",
    "result = a + b\n",
    "\n",
    "# Print the result\n",
    "print(\"The result of the addition is:\", result)"
   ]
  },
  {
   "cell_type": "code",
   "execution_count": 18,
   "id": "49d478b0",
   "metadata": {},
   "outputs": [
    {
     "name": "stdout",
     "output_type": "stream",
     "text": [
      "The result of the subtraction is: 8\n"
     ]
    }
   ],
   "source": [
    "# Define two numbers\n",
    "a = 10\n",
    "b = 2\n",
    "\n",
    "# Perform an arithmetic operation (division)\n",
    "result = a - b\n",
    "\n",
    "# Print the result\n",
    "print(\"The result of the subtraction is:\", result)"
   ]
  },
  {
   "cell_type": "markdown",
   "id": "960d53ca",
   "metadata": {},
   "source": [
    "<h2>Create a code cell to multiply and add numbers</h2>"
   ]
  },
  {
   "cell_type": "code",
   "execution_count": 19,
   "id": "b897960f",
   "metadata": {},
   "outputs": [
    {
     "name": "stdout",
     "output_type": "stream",
     "text": [
      "The result of the multiplication is: 28\n",
      "The result of the addition is: 11\n"
     ]
    }
   ],
   "source": [
    "# Define two numbers\n",
    "x = 7\n",
    "y = 4\n",
    "\n",
    "# Perform multiplication\n",
    "multiplication_result = x * y\n",
    "\n",
    "# Perform addition\n",
    "addition_result = x + y\n",
    "\n",
    "# Print the results\n",
    "print(\"The result of the multiplication is:\", multiplication_result)\n",
    "print(\"The result of the addition is:\", addition_result)"
   ]
  },
  {
   "cell_type": "markdown",
   "id": "68b55375",
   "metadata": {},
   "source": [
    "<h2>Create a code cell to convert minutes to hours.</h2>"
   ]
  },
  {
   "cell_type": "code",
   "execution_count": 20,
   "id": "69a898ed",
   "metadata": {},
   "outputs": [
    {
     "name": "stdout",
     "output_type": "stream",
     "text": [
      "0 days, 8.333333333333334 hours, 0 mins. \n"
     ]
    }
   ],
   "source": [
    "days = 0\n",
    "hours = 0\n",
    "mins = 0\n",
    "\n",
    "time = 500\n",
    "#days = time / 1440\n",
    "leftover_minutes = time % 1440\n",
    "hours = leftover_minutes / 60\n",
    "#mins = time - (days*1440) - (hours*60)\n",
    "print(str(days) + \" days, \" + str(hours) + \" hours, \" + str(mins) +  \" mins. \")\n",
    "\n",
    "# Result: 3.3333333333333335 hours"
   ]
  },
  {
   "cell_type": "markdown",
   "id": "8ee59a5c",
   "metadata": {},
   "source": [
    "<h2>Insert a markdown cell to list Objectives.</h2>"
   ]
  },
  {
   "cell_type": "markdown",
   "id": "442089d6",
   "metadata": {},
   "source": [
    "The objectives of the listed exercises for the final project are to demonstrate proficiency in creating and organizing a data science notebook using Markdown and code cells. Each exercise targets a specific skill that is essential for documenting and presenting data science work clearly and effectively. Below are the objectives for each exercise:\n",
    "\n"
   ]
  },
  {
   "cell_type": "markdown",
   "id": "9b4402a5",
   "metadata": {},
   "source": [
    "<h3> Author  </h3>\n",
    "Humberto."
   ]
  },
  {
   "cell_type": "code",
   "execution_count": null,
   "id": "1ee76eca",
   "metadata": {},
   "outputs": [],
   "source": []
  }
 ],
 "metadata": {
  "kernelspec": {
   "display_name": "Python 3 (ipykernel)",
   "language": "python",
   "name": "python3"
  },
  "language_info": {
   "codemirror_mode": {
    "name": "ipython",
    "version": 3
   },
   "file_extension": ".py",
   "mimetype": "text/x-python",
   "name": "python",
   "nbconvert_exporter": "python",
   "pygments_lexer": "ipython3",
   "version": "3.10.9"
  }
 },
 "nbformat": 4,
 "nbformat_minor": 5
}
